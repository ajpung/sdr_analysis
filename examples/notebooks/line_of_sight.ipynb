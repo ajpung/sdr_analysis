{
 "cells": [
  {
   "cell_type": "code",
   "execution_count": 2,
   "metadata": {
    "ExecuteTime": {
     "end_time": "2023-11-01T20:04:58.198177Z",
     "start_time": "2023-11-01T20:04:57.764971Z"
    },
    "collapsed": true
   },
   "outputs": [],
   "source": [
    "import numpy as np\n",
    "import pandas as pd"
   ]
  },
  {
   "cell_type": "markdown",
   "metadata": {
    "collapsed": false
   },
   "source": [
    "## Create antennas\n",
    "`a0` represents two ground stations with locations defined in lat/lon\n",
    "`a1` represents a satellite 500km above the earth in a very unrealistic orbit\n",
    "\n",
    "We would like to plot the orbit of the satellite, so we initialize a data frame with the lat/lon/alt of the satellite\n"
   ]
  },
  {
   "cell_type": "code",
   "execution_count": 3,
   "metadata": {
    "ExecuteTime": {
     "end_time": "2023-11-01T20:04:58.928554Z",
     "start_time": "2023-11-01T20:04:58.899602Z"
    },
    "collapsed": false
   },
   "outputs": [],
   "source": [
    "from rats.physics.constants import EQ_RADIUS_M\n",
    "\n",
    "a0 = np.array(\n",
    "    [\n",
    "        [33.1 for x in range(-180, 180)],\n",
    "        [float(x) for x in range(-180, 180)],\n",
    "        [float(EQ_RADIUS_M + 500000) for x in range(-180, 180)],\n",
    "    ]\n",
    ").T\n",
    "\n",
    "a1 = np.array([[33.0, -84.0, EQ_RADIUS_M], [33.0, 84.0, EQ_RADIUS_M]])\n",
    "\n",
    "df = pd.DataFrame(a1, columns=[\"latitude\", \"longitude\", \"altitude\"])"
   ]
  },
  {
   "cell_type": "markdown",
   "metadata": {
    "collapsed": false
   },
   "source": [
    "## Compute line of sight\n",
    "\n",
    "We compute the line of sight by passing in the different antenna locations.  The output returns a numpy array with the number of rows corresponding to each satellite location and the number of columns corresponds to the number of ground stations.  For example, if there are 100 spacecraft locations and 3 ground station locations, the output is a 100x3 array.  That array can be directly inserted into a pandas dataframe as shown below"
   ]
  },
  {
   "cell_type": "code",
   "execution_count": 4,
   "metadata": {
    "ExecuteTime": {
     "end_time": "2023-11-01T20:13:52.339552Z",
     "start_time": "2023-11-01T20:13:52.300547Z"
    },
    "collapsed": false
   },
   "outputs": [
    {
     "ename": "NameError",
     "evalue": "name 'Asset' is not defined",
     "output_type": "error",
     "traceback": [
      "\u001b[0;31m---------------------------------------------------------------------------\u001b[0m",
      "\u001b[0;31mNameError\u001b[0m                                 Traceback (most recent call last)",
      "\u001b[1;32m/Users/apung/Documents/Repositories/rats/examples/notebooks/line_of_sight.ipynb Cell 5\u001b[0m line \u001b[0;36m1\n\u001b[0;32m----> <a href='vscode-notebook-cell:/Users/apung/Documents/Repositories/rats/examples/notebooks/line_of_sight.ipynb#W4sZmlsZQ%3D%3D?line=0'>1</a>\u001b[0m \u001b[39mfrom\u001b[39;00m \u001b[39mrats\u001b[39;00m\u001b[39m.\u001b[39;00m\u001b[39manalysis\u001b[39;00m\u001b[39m.\u001b[39;00m\u001b[39mbasics\u001b[39;00m \u001b[39mimport\u001b[39;00m asset_line_of_sight\n\u001b[1;32m      <a href='vscode-notebook-cell:/Users/apung/Documents/Repositories/rats/examples/notebooks/line_of_sight.ipynb#W4sZmlsZQ%3D%3D?line=2'>3</a>\u001b[0m df[[\u001b[39m'\u001b[39m\u001b[39mline_of_sight_x\u001b[39m\u001b[39m'\u001b[39m, \u001b[39m'\u001b[39m\u001b[39mline_of_sight_y\u001b[39m\u001b[39m'\u001b[39m]] \u001b[39m=\u001b[39m asset_line_of_sight(df[[\u001b[39m\"\u001b[39m\u001b[39mlatitude\u001b[39m\u001b[39m\"\u001b[39m, \u001b[39m\"\u001b[39m\u001b[39mlongitude\u001b[39m\u001b[39m\"\u001b[39m, \u001b[39m\"\u001b[39m\u001b[39maltitude\u001b[39m\u001b[39m\"\u001b[39m]]\u001b[39m.\u001b[39mvalues, a0)\n",
      "File \u001b[0;32m/Library/Frameworks/Python.framework/Versions/3.11/lib/python3.11/site-packages/rats/analysis/__init__.py:1\u001b[0m\n\u001b[0;32m----> 1\u001b[0m \u001b[39mfrom\u001b[39;00m \u001b[39m.\u001b[39;00m\u001b[39mbasics\u001b[39;00m \u001b[39mimport\u001b[39;00m \u001b[39m*\u001b[39m\n",
      "File \u001b[0;32m/Library/Frameworks/Python.framework/Versions/3.11/lib/python3.11/site-packages/rats/analysis/basics.py:59\u001b[0m\n\u001b[1;32m     54\u001b[0m     rat \u001b[39m=\u001b[39m num \u001b[39m/\u001b[39m den\n\u001b[1;32m     55\u001b[0m     \u001b[39mreturn\u001b[39;00m np\u001b[39m.\u001b[39mwhere(((rat \u001b[39m>\u001b[39m \u001b[39m0.99\u001b[39m) \u001b[39m|\u001b[39m (rat \u001b[39m<\u001b[39m \u001b[39m0\u001b[39m)), \u001b[39mTrue\u001b[39;00m, \u001b[39mFalse\u001b[39;00m)\n\u001b[1;32m     58\u001b[0m \u001b[39mdef\u001b[39;00m \u001b[39masset_line_of_sight\u001b[39m(\n\u001b[0;32m---> 59\u001b[0m     asset0: Asset,\n\u001b[1;32m     60\u001b[0m     asset1: Asset,\n\u001b[1;32m     61\u001b[0m ) \u001b[39m-\u001b[39m\u001b[39m>\u001b[39m np\u001b[39m.\u001b[39mndarray:\n\u001b[1;32m     62\u001b[0m \u001b[39m    \u001b[39m\u001b[39m\"\"\"\u001b[39;00m\n\u001b[1;32m     63\u001b[0m \u001b[39m    Parses RATS asset object information to feed into the analytic line of sight\u001b[39;00m\n\u001b[1;32m     64\u001b[0m \u001b[39m    algorithm.\u001b[39;00m\n\u001b[0;32m   (...)\u001b[0m\n\u001b[1;32m     71\u001b[0m \u001b[39m        rat: Boolean array of where line of sight does (1) or does not (0) exist.\u001b[39;00m\n\u001b[1;32m     72\u001b[0m \u001b[39m    \"\"\"\u001b[39;00m\n\u001b[1;32m     73\u001b[0m     \u001b[39mif\u001b[39;00m asset0\u001b[39m.\u001b[39mlocation\u001b[39m.\u001b[39mcoordinate_system \u001b[39m==\u001b[39m CoordinateSystem\u001b[39m.\u001b[39mGCS:\n",
      "\u001b[0;31mNameError\u001b[0m: name 'Asset' is not defined"
     ]
    }
   ],
   "source": [
    "from rats.analysis.basics import asset_line_of_sight\n",
    "\n",
    "df[[\"line_of_sight_x\", \"line_of_sight_y\"]] = asset_line_of_sight(\n",
    "    df[[\"latitude\", \"longitude\", \"altitude\"]].values, a0\n",
    ")"
   ]
  },
  {
   "cell_type": "markdown",
   "metadata": {
    "collapsed": false
   },
   "source": [
    "## Postprocessing\n",
    "\n",
    "If we're interested in plotting all spacecraft locations where there exists line of sight to a ground station, we can coalesce the resulting columns to a single column using the pandas `any()` function"
   ]
  },
  {
   "cell_type": "code",
   "execution_count": null,
   "metadata": {
    "collapsed": false
   },
   "outputs": [],
   "source": [
    "df[\"line_of_sight_any\"] = (\n",
    "    df[[\"line_of_sight_x\", \"line_of_sight_y\"]].astype(bool).any(axis=1)\n",
    ")"
   ]
  },
  {
   "cell_type": "markdown",
   "metadata": {
    "collapsed": false
   },
   "source": [
    "## Plotting\n",
    "\n",
    "Finally, plot the results"
   ]
  },
  {
   "cell_type": "code",
   "execution_count": null,
   "metadata": {
    "ExecuteTime": {
     "end_time": "2023-11-01T20:23:02.216824Z",
     "start_time": "2023-11-01T20:23:02.212511Z"
    },
    "collapsed": false
   },
   "outputs": [],
   "source": [
    "import plotly.express as px\n",
    "\n",
    "fig = px.scatter_geo(\n",
    "    df,\n",
    "    lat=df[\"latitude\"],\n",
    "    lon=df[\"longitude\"],\n",
    "    color=df[\"line_of_sight_any\"],\n",
    "    title=\"Line of Sight\",\n",
    "    labels={\"line_of_sight_any\": \"Line of Sight\"},\n",
    ")\n",
    "fig.show()"
   ]
  }
 ],
 "metadata": {
  "kernelspec": {
   "display_name": "Python 3",
   "language": "python",
   "name": "python3"
  },
  "language_info": {
   "codemirror_mode": {
    "name": "ipython",
    "version": 3
   },
   "file_extension": ".py",
   "mimetype": "text/x-python",
   "name": "python",
   "nbconvert_exporter": "python",
   "pygments_lexer": "ipython3",
   "version": "3.11.4"
  }
 },
 "nbformat": 4,
 "nbformat_minor": 0
}
