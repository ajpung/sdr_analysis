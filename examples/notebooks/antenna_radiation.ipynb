{
 "cells": [
  {
   "cell_type": "code",
   "execution_count": 1,
   "metadata": {
    "ExecuteTime": {
     "end_time": "2023-11-01T20:04:58.198177Z",
     "start_time": "2023-11-01T20:04:57.764971Z"
    },
    "collapsed": true
   },
   "outputs": [],
   "source": [
    "from PyNEC import *\n",
    "from matplotlib import cm\n",
    "from matplotlib.ticker import LinearLocator\n",
    "\n",
    "import numpy as np\n",
    "import matplotlib.pyplot as plt\n",
    "import mpl_toolkits.mplot3d.axes3d as axes3d"
   ]
  },
  {
   "cell_type": "markdown",
   "metadata": {
    "collapsed": false
   },
   "source": [
    "## Define antenna parameters"
   ]
  },
  {
   "cell_type": "code",
   "execution_count": 2,
   "metadata": {},
   "outputs": [],
   "source": [
    "# Resonant frequency [MHz]\n",
    "frq = 2400\n",
    "# Corresponding wavelength [m]\n",
    "wvl = 299.792458 / frq"
   ]
  },
  {
   "cell_type": "markdown",
   "metadata": {},
   "source": [
    "## Create NEC context"
   ]
  },
  {
   "cell_type": "code",
   "execution_count": 3,
   "metadata": {
    "ExecuteTime": {
     "end_time": "2023-11-01T20:04:58.928554Z",
     "start_time": "2023-11-01T20:04:58.899602Z"
    },
    "collapsed": false
   },
   "outputs": [],
   "source": [
    "context = nec_context()\n",
    "geo = context.get_geometry()"
   ]
  },
  {
   "cell_type": "markdown",
   "metadata": {
    "collapsed": false
   },
   "source": [
    "## Geometry card (GN): Single wire"
   ]
  },
  {
   "cell_type": "code",
   "execution_count": 4,
   "metadata": {
    "ExecuteTime": {
     "end_time": "2023-11-01T20:13:52.339552Z",
     "start_time": "2023-11-01T20:13:52.300547Z"
    },
    "collapsed": false
   },
   "outputs": [],
   "source": [
    "# add wires to the geometry\n",
    "ITG = 0  # Tag number assigned to all wire segments\n",
    "NS = 36  # Number of segments into which the wire will be divided\n",
    "X1 = 0  # X-coordinate (wire end 1)\n",
    "Y1 = 0  # Y-coordinate (wire end 1)\n",
    "Z1 = 0  # Z-coordinate (wire end 1)\n",
    "X2 = 1.5 * wvl  # X-coordinate (wire end 2)\n",
    "Y2 = 0  # Y-coordinate (wire end 2)\n",
    "Z2 = 0  # Z-coordinate (wire end 2)\n",
    "RAD = 0.001  # Wire radius [m]\n",
    "RAD1 = 1.0  # Radius of first segment in the string [m]\n",
    "RAD2 = 1.0  # Radius of last segment in the string [m]\n",
    "geo.wire(ITG, NS, X1, Y1, Z1, X2, Y2, Z2, RAD, RAD1, RAD2)\n",
    "\n",
    "# Add geometry to Context\n",
    "context.geometry_complete(0)"
   ]
  },
  {
   "cell_type": "markdown",
   "metadata": {
    "collapsed": false
   },
   "source": [
    "## Gain card (GN)"
   ]
  },
  {
   "cell_type": "code",
   "execution_count": 5,
   "metadata": {
    "collapsed": false
   },
   "outputs": [],
   "source": [
    "# Define gain\n",
    "IPERF = (\n",
    "    -1\n",
    ")  # Ground-type flag (-1: Nullify ground, 0: Finite ground, 1: Perf. conducting, 2: Finite ground)\n",
    "NRADL = 0  # Number of radial wires in ground screen approx. (0: No ground screen)\n",
    "EPSE = 0  # Relative diel. const. for ground near antenna (0: Perfect ground)\n",
    "SIG = 0  # Conductivity [Mho/m] of ground near antenna (0: Perfect ground)\n",
    "PRAM5 = 0  # 0 for inf. ground plane; see NEC2 docs. otherwise.\n",
    "PRAM6 = 0  # 0 for inf. ground plane; see NEC2 docs. otherwise.\n",
    "PRAM7 = 0  # 0 for inf. ground plane; see NEC2 docs. otherwise.\n",
    "PRAM8 = 0  # 0 for inf. ground plane; see NEC2 docs. otherwise.\n",
    "\n",
    "# Add gain to Context\n",
    "context.gn_card(IPERF, NRADL, EPSE, SIG, PRAM5, PRAM6, PRAM7, PRAM8)"
   ]
  },
  {
   "cell_type": "markdown",
   "metadata": {},
   "source": [
    "## Excitation card (EX)"
   ]
  },
  {
   "cell_type": "code",
   "execution_count": 6,
   "metadata": {},
   "outputs": [],
   "source": [
    "# add a \"ex\" card to specify an excitation\n",
    "IP1 = 1  # Excitation type (0: Voltage source; 1: Lin. pol. plane wave)\n",
    "IP2 = 1  # Tag number of source element\n",
    "IP3 = 1  # Mth segment\n",
    "IP4 = 0\n",
    "FP1 = 0\n",
    "FP2 = 0\n",
    "FP3 = 0\n",
    "FP4 = 0\n",
    "FP5 = 0\n",
    "FP6 = 0\n",
    "\n",
    "# Add excitation to Context\n",
    "context.ex_card(IP1, IP2, IP3, IP4, FP1, FP2, FP3, FP4, FP5, FP6)"
   ]
  },
  {
   "cell_type": "markdown",
   "metadata": {},
   "source": [
    "## Frequency card (FR)"
   ]
  },
  {
   "cell_type": "code",
   "execution_count": 7,
   "metadata": {},
   "outputs": [],
   "source": [
    "# add a \"fr\" card to specify the frequency\n",
    "ifrq = 0  # Linear stepping\n",
    "nfrq = 2  # Number of frequency steps\n",
    "fmhz = frq  # Frequency [MHz]\n",
    "delfrq = 100e6  # Step size [MHz]\n",
    "\n",
    "# Add frequency to Context\n",
    "context.fr_card(ifrq, nfrq, fmhz, delfrq)"
   ]
  },
  {
   "cell_type": "markdown",
   "metadata": {},
   "source": [
    "## Get radiation pattern"
   ]
  },
  {
   "cell_type": "code",
   "execution_count": 8,
   "metadata": {},
   "outputs": [
    {
     "ename": "AttributeError",
     "evalue": "'NoneType' object has no attribute 'get_gain'",
     "output_type": "error",
     "traceback": [
      "\u001b[0;31m---------------------------------------------------------------------------\u001b[0m",
      "\u001b[0;31mAttributeError\u001b[0m                            Traceback (most recent call last)",
      "Cell \u001b[0;32mIn[8], line 5\u001b[0m\n\u001b[1;32m      2\u001b[0m rp \u001b[38;5;241m=\u001b[39m context\u001b[38;5;241m.\u001b[39mget_radiation_pattern(\u001b[38;5;241m0\u001b[39m)\n\u001b[1;32m      4\u001b[0m \u001b[38;5;66;03m# Convert gain [dBm] to gain [W]\u001b[39;00m\n\u001b[0;32m----> 5\u001b[0m gains_db \u001b[38;5;241m=\u001b[39m \u001b[43mrp\u001b[49m\u001b[38;5;241;43m.\u001b[39;49m\u001b[43mget_gain\u001b[49m()\n\u001b[1;32m      6\u001b[0m gains \u001b[38;5;241m=\u001b[39m \u001b[38;5;241m10.0\u001b[39m\u001b[38;5;241m*\u001b[39m\u001b[38;5;241m*\u001b[39m(gains_db \u001b[38;5;241m/\u001b[39m \u001b[38;5;241m10.0\u001b[39m)\n\u001b[1;32m      7\u001b[0m thetas \u001b[38;5;241m=\u001b[39m rp\u001b[38;5;241m.\u001b[39mget_theta_angles() \u001b[38;5;241m*\u001b[39m \u001b[38;5;241m3.1415\u001b[39m \u001b[38;5;241m/\u001b[39m \u001b[38;5;241m180.0\u001b[39m\n",
      "\u001b[0;31mAttributeError\u001b[0m: 'NoneType' object has no attribute 'get_gain'"
     ]
    }
   ],
   "source": [
    "# Get the radiation_pattern\n",
    "rp = context.get_radiation_pattern(0)\n",
    "\n",
    "# Convert gain [dBm] to gain [W]\n",
    "gains_db = rp.get_gain()\n",
    "gains = 10.0 ** (gains_db / 10.0)\n",
    "thetas = rp.get_theta_angles() * 3.1415 / 180.0\n",
    "phis = rp.get_phi_angles() * 3.1415 / 180.0"
   ]
  }
 ],
 "metadata": {
  "kernelspec": {
   "display_name": "Python 3",
   "language": "python",
   "name": "python3"
  },
  "language_info": {
   "codemirror_mode": {
    "name": "ipython",
    "version": 3
   },
   "file_extension": ".py",
   "mimetype": "text/x-python",
   "name": "python",
   "nbconvert_exporter": "python",
   "pygments_lexer": "ipython3",
   "version": "3.11.4"
  }
 },
 "nbformat": 4,
 "nbformat_minor": 0
}
